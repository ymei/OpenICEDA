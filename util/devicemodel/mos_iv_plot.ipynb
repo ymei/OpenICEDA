{
 "cells": [
  {
   "cell_type": "code",
   "execution_count": 1,
   "id": "b662b54c-b461-4309-b997-3c9a0382fc1e",
   "metadata": {},
   "outputs": [],
   "source": [
    "import numpy as np\n",
    "import pandas as pd"
   ]
  },
  {
   "cell_type": "code",
   "execution_count": 2,
   "id": "89499ec6-0ae9-4ad3-ab5d-01f63316f866",
   "metadata": {},
   "outputs": [],
   "source": [
    "%matplotlib widget\n",
    "import matplotlib.pyplot as plt\n",
    "plt.style.use(['science', 'notebook', 'no-latex'])\n",
    "plt.close('all')"
   ]
  },
  {
   "cell_type": "markdown",
   "id": "d2edac69-5273-43de-8b10-c62098303018",
   "metadata": {},
   "source": [
    "## Load pickled DataFrame\n",
    "DataFrame files may have different W, L, Vg, Vd stepping.  It is better to load this manually."
   ]
  },
  {
   "cell_type": "code",
   "execution_count": 3,
   "id": "28525f40-1841-4e27-9011-4c1715a0d7a3",
   "metadata": {},
   "outputs": [],
   "source": [
    "modelName = \"mos_iv_nfet_01v8.pkl\"\n",
    "dfm = pd.read_pickle(modelName)"
   ]
  },
  {
   "cell_type": "code",
   "execution_count": 4,
   "id": "19c46db3-fcb9-475a-b6b9-114588da61d6",
   "metadata": {},
   "outputs": [
    {
     "data": {
      "text/plain": [
       "(Float64Index([ 0.42,  0.52,  0.54,  0.55,  0.58,   0.6,  0.61,  0.64,  0.65,\n",
       "                0.74,  0.84,   1.0,  1.26,  1.68,   2.0,   3.0,   5.0,   7.0,\n",
       "               100.0],\n",
       "              dtype='float64', name='W'),\n",
       " Float64Index([0.15, 0.18, 0.25, 0.5, 1.0, 2.0, 4.0, 8.0, 20.0, 100.0], dtype='float64', name='L'),\n",
       " Float64Index([               0.0,              0.005,               0.01,\n",
       "                            0.015,               0.02,              0.025,\n",
       "                             0.03,              0.035,               0.04,\n",
       "                            0.045,\n",
       "               ...\n",
       "               1.7550000000000001,               1.76, 1.7650000000000001,\n",
       "                             1.77, 1.7750000000000001,               1.78,\n",
       "               1.7850000000000001,               1.79,              1.795,\n",
       "                              1.8],\n",
       "              dtype='float64', name='Vg', length=361),\n",
       " Float64Index([               0.0,              0.005,               0.01,\n",
       "                            0.015,               0.02,              0.025,\n",
       "                             0.03,              0.035,               0.04,\n",
       "                            0.045,\n",
       "               ...\n",
       "               1.7550000000000001,               1.76, 1.7650000000000001,\n",
       "                             1.77, 1.7750000000000001,               1.78,\n",
       "               1.7850000000000001,               1.79,              1.795,\n",
       "                              1.8],\n",
       "              dtype='float64', name='Vd', length=361))"
      ]
     },
     "execution_count": 4,
     "metadata": {},
     "output_type": "execute_result"
    }
   ],
   "source": [
    "dfm.index.levels[0], dfm.index.levels[1], dfm.index.levels[2], dfm.index.levels[3]"
   ]
  },
  {
   "cell_type": "code",
   "execution_count": 5,
   "id": "66248017-59dc-4366-bb23-009a026dacf7",
   "metadata": {
    "tags": []
   },
   "outputs": [
    {
     "data": {
      "text/html": [
       "<div>\n",
       "<style scoped>\n",
       "    .dataframe tbody tr th:only-of-type {\n",
       "        vertical-align: middle;\n",
       "    }\n",
       "\n",
       "    .dataframe tbody tr th {\n",
       "        vertical-align: top;\n",
       "    }\n",
       "\n",
       "    .dataframe thead tr th {\n",
       "        text-align: left;\n",
       "    }\n",
       "\n",
       "    .dataframe thead tr:last-of-type th {\n",
       "        text-align: right;\n",
       "    }\n",
       "</style>\n",
       "<table border=\"1\" class=\"dataframe\">\n",
       "  <thead>\n",
       "    <tr>\n",
       "      <th></th>\n",
       "      <th colspan=\"21\" halign=\"left\">Id</th>\n",
       "    </tr>\n",
       "    <tr>\n",
       "      <th>Vg</th>\n",
       "      <th>0.000</th>\n",
       "      <th>0.005</th>\n",
       "      <th>0.010</th>\n",
       "      <th>0.015</th>\n",
       "      <th>0.020</th>\n",
       "      <th>0.025</th>\n",
       "      <th>0.030</th>\n",
       "      <th>0.035</th>\n",
       "      <th>0.040</th>\n",
       "      <th>0.045</th>\n",
       "      <th>...</th>\n",
       "      <th>1.755</th>\n",
       "      <th>1.760</th>\n",
       "      <th>1.765</th>\n",
       "      <th>1.770</th>\n",
       "      <th>1.775</th>\n",
       "      <th>1.780</th>\n",
       "      <th>1.785</th>\n",
       "      <th>1.790</th>\n",
       "      <th>1.795</th>\n",
       "      <th>1.800</th>\n",
       "    </tr>\n",
       "    <tr>\n",
       "      <th>Vd</th>\n",
       "      <th></th>\n",
       "      <th></th>\n",
       "      <th></th>\n",
       "      <th></th>\n",
       "      <th></th>\n",
       "      <th></th>\n",
       "      <th></th>\n",
       "      <th></th>\n",
       "      <th></th>\n",
       "      <th></th>\n",
       "      <th></th>\n",
       "      <th></th>\n",
       "      <th></th>\n",
       "      <th></th>\n",
       "      <th></th>\n",
       "      <th></th>\n",
       "      <th></th>\n",
       "      <th></th>\n",
       "      <th></th>\n",
       "      <th></th>\n",
       "      <th></th>\n",
       "    </tr>\n",
       "  </thead>\n",
       "  <tbody>\n",
       "    <tr>\n",
       "      <th>0.000</th>\n",
       "      <td>-1.607365e-42</td>\n",
       "      <td>-2.788536e-44</td>\n",
       "      <td>-8.886236e-44</td>\n",
       "      <td>1.444069e-44</td>\n",
       "      <td>-7.226811e-44</td>\n",
       "      <td>1.099272e-43</td>\n",
       "      <td>-9.347099e-45</td>\n",
       "      <td>7.603317e-30</td>\n",
       "      <td>2.745347e-30</td>\n",
       "      <td>-7.960598e-30</td>\n",
       "      <td>...</td>\n",
       "      <td>7.150672e-21</td>\n",
       "      <td>7.148697e-21</td>\n",
       "      <td>7.146634e-21</td>\n",
       "      <td>7.144483e-21</td>\n",
       "      <td>7.142245e-21</td>\n",
       "      <td>7.139921e-21</td>\n",
       "      <td>7.851261e-21</td>\n",
       "      <td>7.848516e-21</td>\n",
       "      <td>7.845676e-21</td>\n",
       "      <td>7.842743e-21</td>\n",
       "    </tr>\n",
       "    <tr>\n",
       "      <th>0.005</th>\n",
       "      <td>9.058726e-15</td>\n",
       "      <td>9.676288e-15</td>\n",
       "      <td>1.039099e-14</td>\n",
       "      <td>1.122019e-14</td>\n",
       "      <td>1.218470e-14</td>\n",
       "      <td>1.329492e-14</td>\n",
       "      <td>1.458902e-14</td>\n",
       "      <td>1.608783e-14</td>\n",
       "      <td>1.782255e-14</td>\n",
       "      <td>1.983136e-14</td>\n",
       "      <td>...</td>\n",
       "      <td>1.206944e-06</td>\n",
       "      <td>1.210645e-06</td>\n",
       "      <td>1.214327e-06</td>\n",
       "      <td>1.217991e-06</td>\n",
       "      <td>1.221637e-06</td>\n",
       "      <td>1.225265e-06</td>\n",
       "      <td>1.228875e-06</td>\n",
       "      <td>1.232466e-06</td>\n",
       "      <td>1.236040e-06</td>\n",
       "      <td>1.239595e-06</td>\n",
       "    </tr>\n",
       "    <tr>\n",
       "      <th>0.010</th>\n",
       "      <td>1.714601e-14</td>\n",
       "      <td>1.822154e-14</td>\n",
       "      <td>1.949135e-14</td>\n",
       "      <td>2.094852e-14</td>\n",
       "      <td>2.264161e-14</td>\n",
       "      <td>2.460532e-14</td>\n",
       "      <td>2.688127e-14</td>\n",
       "      <td>2.951805e-14</td>\n",
       "      <td>3.257117e-14</td>\n",
       "      <td>3.611694e-14</td>\n",
       "      <td>...</td>\n",
       "      <td>2.406683e-06</td>\n",
       "      <td>2.414089e-06</td>\n",
       "      <td>2.421459e-06</td>\n",
       "      <td>2.428792e-06</td>\n",
       "      <td>2.436089e-06</td>\n",
       "      <td>2.443350e-06</td>\n",
       "      <td>2.450574e-06</td>\n",
       "      <td>2.457762e-06</td>\n",
       "      <td>2.464914e-06</td>\n",
       "      <td>2.472030e-06</td>\n",
       "    </tr>\n",
       "    <tr>\n",
       "      <th>0.015</th>\n",
       "      <td>2.501471e-14</td>\n",
       "      <td>2.654821e-14</td>\n",
       "      <td>2.831763e-14</td>\n",
       "      <td>3.035766e-14</td>\n",
       "      <td>3.273076e-14</td>\n",
       "      <td>3.547856e-14</td>\n",
       "      <td>3.867739e-14</td>\n",
       "      <td>4.237583e-14</td>\n",
       "      <td>4.666406e-14</td>\n",
       "      <td>5.163231e-14</td>\n",
       "      <td>...</td>\n",
       "      <td>3.599232e-06</td>\n",
       "      <td>3.610348e-06</td>\n",
       "      <td>3.621410e-06</td>\n",
       "      <td>3.632417e-06</td>\n",
       "      <td>3.643370e-06</td>\n",
       "      <td>3.654269e-06</td>\n",
       "      <td>3.665113e-06</td>\n",
       "      <td>3.675903e-06</td>\n",
       "      <td>3.686639e-06</td>\n",
       "      <td>3.697320e-06</td>\n",
       "    </tr>\n",
       "    <tr>\n",
       "      <th>0.020</th>\n",
       "      <td>3.244627e-14</td>\n",
       "      <td>3.434752e-14</td>\n",
       "      <td>3.655409e-14</td>\n",
       "      <td>3.910761e-14</td>\n",
       "      <td>4.204970e-14</td>\n",
       "      <td>4.547751e-14</td>\n",
       "      <td>4.943268e-14</td>\n",
       "      <td>5.404011e-14</td>\n",
       "      <td>5.936918e-14</td>\n",
       "      <td>6.554479e-14</td>\n",
       "      <td>...</td>\n",
       "      <td>4.784607e-06</td>\n",
       "      <td>4.799438e-06</td>\n",
       "      <td>4.814197e-06</td>\n",
       "      <td>4.828883e-06</td>\n",
       "      <td>4.843497e-06</td>\n",
       "      <td>4.858039e-06</td>\n",
       "      <td>4.872508e-06</td>\n",
       "      <td>4.886905e-06</td>\n",
       "      <td>4.901230e-06</td>\n",
       "      <td>4.915482e-06</td>\n",
       "    </tr>\n",
       "  </tbody>\n",
       "</table>\n",
       "<p>5 rows × 361 columns</p>\n",
       "</div>"
      ],
      "text/plain": [
       "                 Id                                                          \\\n",
       "Vg            0.000         0.005         0.010         0.015         0.020   \n",
       "Vd                                                                            \n",
       "0.000 -1.607365e-42 -2.788536e-44 -8.886236e-44  1.444069e-44 -7.226811e-44   \n",
       "0.005  9.058726e-15  9.676288e-15  1.039099e-14  1.122019e-14  1.218470e-14   \n",
       "0.010  1.714601e-14  1.822154e-14  1.949135e-14  2.094852e-14  2.264161e-14   \n",
       "0.015  2.501471e-14  2.654821e-14  2.831763e-14  3.035766e-14  3.273076e-14   \n",
       "0.020  3.244627e-14  3.434752e-14  3.655409e-14  3.910761e-14  4.204970e-14   \n",
       "\n",
       "                                                                             \\\n",
       "Vg            0.025         0.030         0.035         0.040         0.045   \n",
       "Vd                                                                            \n",
       "0.000  1.099272e-43 -9.347099e-45  7.603317e-30  2.745347e-30 -7.960598e-30   \n",
       "0.005  1.329492e-14  1.458902e-14  1.608783e-14  1.782255e-14  1.983136e-14   \n",
       "0.010  2.460532e-14  2.688127e-14  2.951805e-14  3.257117e-14  3.611694e-14   \n",
       "0.015  3.547856e-14  3.867739e-14  4.237583e-14  4.666406e-14  5.163231e-14   \n",
       "0.020  4.547751e-14  4.943268e-14  5.404011e-14  5.936918e-14  6.554479e-14   \n",
       "\n",
       "       ...                                                          \\\n",
       "Vg     ...         1.755         1.760         1.765         1.770   \n",
       "Vd     ...                                                           \n",
       "0.000  ...  7.150672e-21  7.148697e-21  7.146634e-21  7.144483e-21   \n",
       "0.005  ...  1.206944e-06  1.210645e-06  1.214327e-06  1.217991e-06   \n",
       "0.010  ...  2.406683e-06  2.414089e-06  2.421459e-06  2.428792e-06   \n",
       "0.015  ...  3.599232e-06  3.610348e-06  3.621410e-06  3.632417e-06   \n",
       "0.020  ...  4.784607e-06  4.799438e-06  4.814197e-06  4.828883e-06   \n",
       "\n",
       "                                                                             \\\n",
       "Vg            1.775         1.780         1.785         1.790         1.795   \n",
       "Vd                                                                            \n",
       "0.000  7.142245e-21  7.139921e-21  7.851261e-21  7.848516e-21  7.845676e-21   \n",
       "0.005  1.221637e-06  1.225265e-06  1.228875e-06  1.232466e-06  1.236040e-06   \n",
       "0.010  2.436089e-06  2.443350e-06  2.450574e-06  2.457762e-06  2.464914e-06   \n",
       "0.015  3.643370e-06  3.654269e-06  3.665113e-06  3.675903e-06  3.686639e-06   \n",
       "0.020  4.843497e-06  4.858039e-06  4.872508e-06  4.886905e-06  4.901230e-06   \n",
       "\n",
       "                     \n",
       "Vg            1.800  \n",
       "Vd                   \n",
       "0.000  7.842743e-21  \n",
       "0.005  1.239595e-06  \n",
       "0.010  2.472030e-06  \n",
       "0.015  3.697320e-06  \n",
       "0.020  4.915482e-06  \n",
       "\n",
       "[5 rows x 361 columns]"
      ]
     },
     "execution_count": 5,
     "metadata": {},
     "output_type": "execute_result"
    }
   ],
   "source": [
    "dfm1 = dfm.loc[1.0,1.0].unstack(0) # unstack(0) to make Vd the row index, (1) to make Vg the row index\n",
    "x = dfm.index.levels[3].to_numpy()\n",
    "dfm1.head()"
   ]
  },
  {
   "cell_type": "code",
   "execution_count": 6,
   "id": "7582ce4e-f25c-455c-b900-4591a63716b7",
   "metadata": {},
   "outputs": [
    {
     "data": {
      "application/vnd.jupyter.widget-view+json": {
       "model_id": "74ecebfc315f4f1187eef5ae479279f2",
       "version_major": 2,
       "version_minor": 0
      },
      "text/plain": [
       "Canvas(toolbar=Toolbar(toolitems=[('Home', 'Reset original view', 'home', 'home'), ('Back', 'Back to previous …"
      ]
     },
     "metadata": {},
     "output_type": "display_data"
    },
    {
     "data": {
      "application/vnd.jupyter.widget-view+json": {
       "model_id": "4d4488f9478e4c2688ed0f9a3b67540f",
       "version_major": 2,
       "version_minor": 0
      },
      "text/plain": [
       "Label(value='W/L')"
      ]
     },
     "metadata": {},
     "output_type": "display_data"
    },
    {
     "data": {
      "application/vnd.jupyter.widget-view+json": {
       "model_id": "117f819349fb4070b017a50107875777",
       "version_major": 2,
       "version_minor": 0
      },
      "text/plain": [
       "SelectionSlider(description='W', index=11, options=(0.42, 0.52, 0.54, 0.55, 0.58, 0.6, 0.61, 0.64, 0.65, 0.74,…"
      ]
     },
     "metadata": {},
     "output_type": "display_data"
    },
    {
     "data": {
      "application/vnd.jupyter.widget-view+json": {
       "model_id": "97805d47335d417185c90865388afd3f",
       "version_major": 2,
       "version_minor": 0
      },
      "text/plain": [
       "SelectionSlider(description='L', index=4, options=(0.15, 0.18, 0.25, 0.5, 1.0, 2.0, 4.0, 8.0, 20.0, 100.0), va…"
      ]
     },
     "metadata": {},
     "output_type": "display_data"
    },
    {
     "data": {
      "application/vnd.jupyter.widget-view+json": {
       "model_id": "e00b14463a254de49263c8f0a2d84797",
       "version_major": 2,
       "version_minor": 0
      },
      "text/plain": [
       "IntSlider(value=10, description='Vg or Vd step', max=50, min=1)"
      ]
     },
     "metadata": {},
     "output_type": "display_data"
    }
   ],
   "source": [
    "fig, axs = plt.subplots(2, 2)\n",
    "fig.set_size_inches(14, 11)\n",
    "\n",
    "import ipywidgets as widgets\n",
    "cWL = widgets.Label(value='W/L')\n",
    "sWs = widgets.SelectionSlider(description=dfm.index.levels[0].name, options=dfm.index.levels[0], value=1.0)\n",
    "sLs = widgets.SelectionSlider(description=dfm.index.levels[1].name, options=dfm.index.levels[1], value=1.0)\n",
    "sVgVdStep = widgets.IntSlider(description=\"Vg or Vd step\", value=10, min=1, max=50, step=1)\n",
    "display(cWL, sWs, sLs, sVgVdStep)\n",
    "\n",
    "def widget_value_change_handler(change):\n",
    "    fig.suptitle(\"{}, W/L = {}/{}\".format(modelName, sWs.value, sLs.value))\n",
    "\n",
    "    # Id vs Vd\n",
    "    axs[0, 0].cla()\n",
    "    axs[0, 0].set_xlabel('Vds [V]')\n",
    "    axs[0, 0].set_ylabel('Id [A]')\n",
    "    cWL.value = \"{}, W/L = {}/{}, Vg step = {}\".format(modelName, sWs.value, sLs.value, sVgVdStep.value)\n",
    "    dfm1 = dfm.loc[sWs.value, sLs.value].unstack(0) # row index is Vd.\n",
    "    dfm2 = dfm1.loc[:, ::sVgVdStep.value]\n",
    "    axs[0, 0].plot(dfm2)\n",
    "    # Id vs Vg\n",
    "    axs[0, 1].cla()\n",
    "    axs[0, 1].set_xlabel('Vg [V]')\n",
    "    axs[0, 1].set_ylabel('Id [A]')\n",
    "    axs[0, 1].set_yscale('log')\n",
    "    axs[0, 1].set_ylim(bottom=1e-15)\n",
    "    dfm3 = dfm.loc[sWs.value, sLs.value].unstack(1).loc[:, ::sVgVdStep.value] # row index is Vg.\n",
    "    x = dfm.index.levels[2].to_numpy() # Vg\n",
    "    axs[0, 1].plot(x, np.abs(dfm3))\n",
    "    # ro\n",
    "    x = dfm.index.levels[3].to_numpy() # Vd\n",
    "    ro = np.reciprocal(np.gradient(dfm2, x, axis=0))\n",
    "    axs[1, 0].cla()\n",
    "    axs[1, 0].set_xlabel('Vds [V]')\n",
    "    axs[1, 0].sharex(axs[0, 0])\n",
    "    axs[1, 0].set_ylabel('ro = ∂Vd/∂Id [Ohm]')\n",
    "    axs[1, 0].set_yscale(\"log\")\n",
    "    axs[1, 0].plot(x, ro)\n",
    "    # gm\n",
    "    x = dfm.index.levels[2].to_numpy() # Vg\n",
    "    gm = np.gradient(dfm3, x, axis=0)\n",
    "    axs[1, 1].cla()\n",
    "    axs[1, 1].set_xlabel('Vg [V]')\n",
    "    axs[1, 1].sharex(axs[0, 1])\n",
    "    axs[1, 1].set_ylabel('gm = ∂Id/∂Vg [1/Ohm]')\n",
    "    axs[1, 1].set_yscale(\"log\")\n",
    "    axs[1, 1].set_ylim(1e-15)\n",
    "    x = dfm.index.levels[2].to_numpy() # Vg\n",
    "    axs[1, 1].plot(x, gm)\n",
    "\n",
    "    fig.canvas.draw_idle()\n",
    "\n",
    "sWs.observe(widget_value_change_handler, names='value')\n",
    "sLs.observe(widget_value_change_handler, names='value')\n",
    "sVgVdStep.observe(widget_value_change_handler, names='value')\n",
    "widget_value_change_handler(0)"
   ]
  },
  {
   "cell_type": "code",
   "execution_count": null,
   "id": "2e2df8b4-c634-4cb1-9ae9-cbb6c6f32753",
   "metadata": {},
   "outputs": [],
   "source": []
  }
 ],
 "metadata": {
  "kernelspec": {
   "display_name": "Python 3",
   "language": "python",
   "name": "python3"
  },
  "language_info": {
   "codemirror_mode": {
    "name": "ipython",
    "version": 3
   },
   "file_extension": ".py",
   "mimetype": "text/x-python",
   "name": "python",
   "nbconvert_exporter": "python",
   "pygments_lexer": "ipython3",
   "version": "3.8.10"
  }
 },
 "nbformat": 4,
 "nbformat_minor": 5
}
