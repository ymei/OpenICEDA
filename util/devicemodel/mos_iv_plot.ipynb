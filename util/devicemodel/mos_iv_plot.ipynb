{
 "cells": [
  {
   "cell_type": "code",
   "execution_count": 3,
   "id": "b662b54c-b461-4309-b997-3c9a0382fc1e",
   "metadata": {},
   "outputs": [],
   "source": [
    "import numpy as np\n",
    "import pandas as pd"
   ]
  },
  {
   "cell_type": "code",
   "execution_count": 4,
   "id": "89499ec6-0ae9-4ad3-ab5d-01f63316f866",
   "metadata": {},
   "outputs": [],
   "source": [
    "%matplotlib widget\n",
    "import matplotlib.pyplot as plt\n",
    "plt.style.use(['science', 'notebook', 'no-latex'])"
   ]
  },
  {
   "cell_type": "code",
   "execution_count": 33,
   "id": "28525f40-1841-4e27-9011-4c1715a0d7a3",
   "metadata": {},
   "outputs": [],
   "source": [
    "dfm = pd.read_pickle(\"mos_iv_pfet_01v8.pkl\")"
   ]
  },
  {
   "cell_type": "code",
   "execution_count": 25,
   "id": "19c46db3-fcb9-475a-b6b9-114588da61d6",
   "metadata": {},
   "outputs": [
    {
     "data": {
      "text/plain": [
       "(Float64Index([ 0.42,  0.52,  0.54,  0.55,  0.58,   0.6,  0.61,  0.64,  0.65,\n",
       "                0.74,  0.84,   1.0,  1.26,  1.68,   2.0,   3.0,   5.0,   7.0,\n",
       "               100.0],\n",
       "              dtype='float64', name='W'),\n",
       " Float64Index([0.15, 0.18, 0.25, 0.5, 1.0, 2.0, 4.0, 8.0, 20.0, 100.0], dtype='float64', name='L'))"
      ]
     },
     "execution_count": 25,
     "metadata": {},
     "output_type": "execute_result"
    }
   ],
   "source": [
    "dfm.index.levels[0], dfm.index.levels[1]"
   ]
  },
  {
   "cell_type": "code",
   "execution_count": 34,
   "id": "66248017-59dc-4366-bb23-009a026dacf7",
   "metadata": {
    "tags": []
   },
   "outputs": [
    {
     "data": {
      "application/vnd.jupyter.widget-view+json": {
       "model_id": "fb4fad42aeda4e54a9fd3f8bb50f9def",
       "version_major": 2,
       "version_minor": 0
      },
      "text/plain": [
       "Canvas(toolbar=Toolbar(toolitems=[('Home', 'Reset original view', 'home', 'home'), ('Back', 'Back to previous …"
      ]
     },
     "metadata": {},
     "output_type": "display_data"
    },
    {
     "data": {
      "text/plain": [
       "<AxesSubplot:xlabel='Vd'>"
      ]
     },
     "execution_count": 34,
     "metadata": {},
     "output_type": "execute_result"
    }
   ],
   "source": [
    "dfm1 = dfm.loc[100.0,0.5].unstack(0)\n",
    "dfm1.plot()"
   ]
  },
  {
   "cell_type": "code",
   "execution_count": null,
   "id": "5f18d5ae-de6c-45e5-be22-e404b2056bf5",
   "metadata": {},
   "outputs": [],
   "source": []
  }
 ],
 "metadata": {
  "kernelspec": {
   "display_name": "Python 3",
   "language": "python",
   "name": "python3"
  },
  "language_info": {
   "codemirror_mode": {
    "name": "ipython",
    "version": 3
   },
   "file_extension": ".py",
   "mimetype": "text/x-python",
   "name": "python",
   "nbconvert_exporter": "python",
   "pygments_lexer": "ipython3",
   "version": "3.8.10"
  }
 },
 "nbformat": 4,
 "nbformat_minor": 5
}
